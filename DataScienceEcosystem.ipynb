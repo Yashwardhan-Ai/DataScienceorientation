{
 "cells": [
  {
   "cell_type": "markdown",
   "id": "b61df4d4-a91f-47ea-95ca-882da09e17c4",
   "metadata": {},
   "source": [
    "<center>\r\n",
    "    <img src=\"https://cf-courses-data.s3.us.cloud-object-storage.appdomain.cloud/IBMDeveloperSkillsNetwork-DS0105EN-SkillsNetwork/labs/Module2/images/SN_web_lightmode.png\" width=\"300\" alt=\"cognitiveclass.ai logo\">\r\n",
    "</center>"
   ]
  },
  {
   "cell_type": "markdown",
   "id": "4e632116-b355-4d11-9de4-d2123656848d",
   "metadata": {},
   "source": [
    "#### Add your code below following the instructions given in the course\n"
   ]
  },
  {
   "cell_type": "markdown",
   "id": "b74bec8b-2c57-406e-ab95-9565ee659c65",
   "metadata": {},
   "source": [
    "# Data Science Tools and Ecosystem"
   ]
  },
  {
   "cell_type": "markdown",
   "id": "63fe9b0c-f635-45b2-b10c-ffb3454df172",
   "metadata": {},
   "source": [
    "In this notebook, Data Science Tools and  Ecosystem are summarized."
   ]
  },
  {
   "cell_type": "markdown",
   "id": "c0630908-c0aa-42a6-b709-8a4e00ae963e",
   "metadata": {},
   "source": [
    "##### Some of the popular languages that Data Scientists use are:\n",
    "\n",
    "    1.Python\n",
    "    2.SQL\n",
    "    3.R"
   ]
  },
  {
   "cell_type": "markdown",
   "id": "294d85c5-f3ca-4174-899a-984b9f1839e1",
   "metadata": {},
   "source": [
    "# Objectives:\n",
    "* Some of the popular languages used in Data Science\n",
    "* Some of the commonly used libraries used by Data Scientists\n",
    "* few examples of evaluating arithmetic expressions in Python"
   ]
  },
  {
   "cell_type": "markdown",
   "id": "718c680f-0824-405f-a299-a5384f845ec5",
   "metadata": {},
   "source": [
    "##### Some of the commonly used libraries used by Data Scientists include:\n",
    "\n",
    "1. Pandas\n",
    "2. Numpy\n",
    "3. Matplotlib\n",
    "4. Scipy"
   ]
  },
  {
   "cell_type": "markdown",
   "id": "ef460127-65a8-401e-a643-64114a75fd2b",
   "metadata": {},
   "source": [
    "##### Some of the commonly used libraries used by Data Scientists include:\n",
    "  \n",
    "| Data Science Tools |\n",
    "| -------------------|\n",
    "| Jupyter Notebook   |\n",
    "| Rstudio            |\n",
    "| MySQL              |"
   ]
  },
  {
   "cell_type": "markdown",
   "id": "e10d93b2-a1df-4722-8f17-a7ebc476ad12",
   "metadata": {},
   "source": [
    "### Below are a few examples of evaluating arithmetic expressions in Python:\n"
   ]
  },
  {
   "cell_type": "code",
   "execution_count": 12,
   "id": "77136f0b-ff39-4f1c-a559-005cb0a4b188",
   "metadata": {},
   "outputs": [
    {
     "name": "stdout",
     "output_type": "stream",
     "text": [
      "17\n"
     ]
    }
   ],
   "source": [
    "# This a simple arithmetic expression to mutiply then add integers\n",
    "print((3*4)+5)"
   ]
  },
  {
   "cell_type": "code",
   "execution_count": 14,
   "id": "fc2bc6da-cd00-4cbf-89a3-3a43f5982ddf",
   "metadata": {},
   "outputs": [
    {
     "name": "stdout",
     "output_type": "stream",
     "text": [
      " 200 minutes in Hours is 3.3333333333333335\n"
     ]
    }
   ],
   "source": [
    "# This will convert 200 minutes to hours by diving by 60.\n",
    "hours = 200/60\n",
    "print(f\" 200 minutes in Hours is {hours}\")"
   ]
  },
  {
   "cell_type": "markdown",
   "id": "563c8eb3-661c-4acb-b0f1-8c69b2f7e5b7",
   "metadata": {},
   "source": [
    "## Author:\n",
    "Yashwardhan Anil Shinde"
   ]
  }
 ],
 "metadata": {
  "kernelspec": {
   "display_name": "Python 3 (ipykernel)",
   "language": "python",
   "name": "python3"
  },
  "language_info": {
   "codemirror_mode": {
    "name": "ipython",
    "version": 3
   },
   "file_extension": ".py",
   "mimetype": "text/x-python",
   "name": "python",
   "nbconvert_exporter": "python",
   "pygments_lexer": "ipython3",
   "version": "3.12.4"
  }
 },
 "nbformat": 4,
 "nbformat_minor": 5
}
